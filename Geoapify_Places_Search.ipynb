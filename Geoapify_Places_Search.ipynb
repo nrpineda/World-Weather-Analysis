{
 "cells": [
  {
   "cell_type": "code",
   "execution_count": 5,
   "id": "9d0e7521",
   "metadata": {},
   "outputs": [],
   "source": [
    "# Import dependencies\n",
    "import requests\n",
    "\n",
    "# Import API key\n",
    "from config import geoapify_key\n",
    "\n",
    "# Set up the base URL for the Geoapify Places API.\n",
    "base_url = \"https://api.geoapify.com/v2/places\"\n"
   ]
  },
  {
   "cell_type": "code",
   "execution_count": 6,
   "id": "647402f0",
   "metadata": {},
   "outputs": [
    {
     "data": {
      "text/plain": [
       "{'statusCode': 401, 'error': 'Unauthorized', 'message': 'Invalid apiKey'}"
      ]
     },
     "execution_count": 6,
     "metadata": {},
     "output_type": "execute_result"
    }
   ],
   "source": [
    "# Set the params for the search for the hotel in Paris\n",
    "latitude = 48.8566\n",
    "longitude = 2.3522\n",
    "radius = 5000\n",
    "params = {\n",
    "    \"categories\": \"accommodation.hotel\",\n",
    "    \"apikey\": geoapify_key,\n",
    "    \"filter\": f\"circle:{longitude}, {latitude}, {radius}\"\n",
    "}\n",
    "\n",
    "# Set up the base URL for the Geoapify Places dictionary\n",
    "hotels = requests.get(base_url, params=params).json()\n",
    "\n",
    "# Display the JSON data\n",
    "hotels"
   ]
  },
  {
   "cell_type": "code",
   "execution_count": null,
   "id": "81f956b3",
   "metadata": {},
   "outputs": [],
   "source": []
  }
 ],
 "metadata": {
  "kernelspec": {
   "display_name": "Python 3 (ipykernel)",
   "language": "python",
   "name": "python3"
  },
  "language_info": {
   "codemirror_mode": {
    "name": "ipython",
    "version": 3
   },
   "file_extension": ".py",
   "mimetype": "text/x-python",
   "name": "python",
   "nbconvert_exporter": "python",
   "pygments_lexer": "ipython3",
   "version": "3.9.12"
  }
 },
 "nbformat": 4,
 "nbformat_minor": 5
}
